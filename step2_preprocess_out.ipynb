{
 "cells": [
  {
   "cell_type": "code",
   "execution_count": 1,
   "metadata": {},
   "outputs": [],
   "source": [
    "import json\n",
    "import pandas as pd\n",
    "import re\n",
    "import numpy as np\n",
    "import os\n",
    "from star_utils import query_llm_proxy, get_llm_proxy_api_token\n",
    "api_token = get_llm_proxy_api_token()"
   ]
  },
  {
   "cell_type": "code",
   "execution_count": 2,
   "metadata": {},
   "outputs": [],
   "source": [
    "with open(\"task_tool_mapping_out.json\", \"r\") as f:\n",
    "    data = json.load(f)\n",
    "annotation = pd.DataFrame(data[\"task_tool_mappings\"])\n",
    "\n",
    "tasks = pd.read_json(\"user_tasks.json\", lines=True)"
   ]
  },
  {
   "cell_type": "code",
   "execution_count": 3,
   "metadata": {},
   "outputs": [
    {
     "name": "stdout",
     "output_type": "stream",
     "text": [
      "missing user_idx: []\n",
      "\n",
      "users with wrong task count: 3\n"
     ]
    },
    {
     "data": {
      "text/plain": [
       "user_idx\n",
       "1558    9\n",
       "6626    6\n",
       "9440    9\n",
       "Name: task_idx, dtype: int64"
      ]
     },
     "metadata": {},
     "output_type": "display_data"
    }
   ],
   "source": [
    "# Which expected user_idx values are missing?\n",
    "expected = set(range(annotation[\"user_idx\"].min(), annotation[\"user_idx\"].max() + 1)) \n",
    "present  = set(annotation[\"user_idx\"].unique())\n",
    "missing  = expected - present\n",
    "print(\"missing user_idx:\", sorted(missing))\n",
    "\n",
    "# Verify each user_idx has exactly 10 task_idx values\n",
    "counts = annotation.groupby(\"user_idx\")[\"task_idx\"].nunique()\n",
    "bad    = counts[counts != 10]\n",
    "print(f\"\\nusers with wrong task count: {len(bad)}\")\n",
    "display(bad.head())"
   ]
  },
  {
   "cell_type": "code",
   "execution_count": 15,
   "metadata": {},
   "outputs": [
    {
     "data": {
      "text/html": [
       "<div>\n",
       "<style scoped>\n",
       "    .dataframe tbody tr th:only-of-type {\n",
       "        vertical-align: middle;\n",
       "    }\n",
       "\n",
       "    .dataframe tbody tr th {\n",
       "        vertical-align: top;\n",
       "    }\n",
       "\n",
       "    .dataframe thead th {\n",
       "        text-align: right;\n",
       "    }\n",
       "</style>\n",
       "<table border=\"1\" class=\"dataframe\">\n",
       "  <thead>\n",
       "    <tr style=\"text-align: right;\">\n",
       "      <th></th>\n",
       "      <th>user_idx</th>\n",
       "      <th>task_idx</th>\n",
       "      <th>task</th>\n",
       "      <th>tool_to_search</th>\n",
       "    </tr>\n",
       "  </thead>\n",
       "  <tbody>\n",
       "    <tr>\n",
       "      <th>5180</th>\n",
       "      <td>1558</td>\n",
       "      <td>0</td>\n",
       "      <td>Troubleshoot internet connection issues for 10...</td>\n",
       "      <td>Confluence</td>\n",
       "    </tr>\n",
       "    <tr>\n",
       "      <th>5181</th>\n",
       "      <td>1558</td>\n",
       "      <td>1</td>\n",
       "      <td>Update knowledge base articles on streaming de...</td>\n",
       "      <td>Confluence</td>\n",
       "    </tr>\n",
       "    <tr>\n",
       "      <th>5182</th>\n",
       "      <td>1558</td>\n",
       "      <td>2</td>\n",
       "      <td>Respond to 25 customer inquiries via phone and...</td>\n",
       "      <td>Gmail</td>\n",
       "    </tr>\n",
       "    <tr>\n",
       "      <th>5183</th>\n",
       "      <td>1558</td>\n",
       "      <td>3</td>\n",
       "      <td>Monitor ticket volume and prioritize tasks for...</td>\n",
       "      <td>Jira</td>\n",
       "    </tr>\n",
       "    <tr>\n",
       "      <th>5184</th>\n",
       "      <td>1558</td>\n",
       "      <td>4</td>\n",
       "      <td>Implement new software update for IT system ma...</td>\n",
       "      <td>Confluence</td>\n",
       "    </tr>\n",
       "    <tr>\n",
       "      <th>5185</th>\n",
       "      <td>1558</td>\n",
       "      <td>5</td>\n",
       "      <td>Research alternative solutions for outdated ha...</td>\n",
       "      <td>Slack</td>\n",
       "    </tr>\n",
       "    <tr>\n",
       "      <th>5186</th>\n",
       "      <td>1558</td>\n",
       "      <td>6</td>\n",
       "      <td>Collaborate with IT team to resolve network co...</td>\n",
       "      <td>Confluence</td>\n",
       "    </tr>\n",
       "    <tr>\n",
       "      <th>5187</th>\n",
       "      <td>1558</td>\n",
       "      <td>7</td>\n",
       "      <td>Document troubleshooting steps for common brow...</td>\n",
       "      <td>Google Calendar</td>\n",
       "    </tr>\n",
       "    <tr>\n",
       "      <th>5188</th>\n",
       "      <td>1558</td>\n",
       "      <td>8</td>\n",
       "      <td>Schedule training session on cybersecurity bes...</td>\n",
       "      <td>Google Sheets</td>\n",
       "    </tr>\n",
       "  </tbody>\n",
       "</table>\n",
       "</div>"
      ],
      "text/plain": [
       "      user_idx  task_idx                                               task  \\\n",
       "5180      1558         0  Troubleshoot internet connection issues for 10...   \n",
       "5181      1558         1  Update knowledge base articles on streaming de...   \n",
       "5182      1558         2  Respond to 25 customer inquiries via phone and...   \n",
       "5183      1558         3  Monitor ticket volume and prioritize tasks for...   \n",
       "5184      1558         4  Implement new software update for IT system ma...   \n",
       "5185      1558         5  Research alternative solutions for outdated ha...   \n",
       "5186      1558         6  Collaborate with IT team to resolve network co...   \n",
       "5187      1558         7  Document troubleshooting steps for common brow...   \n",
       "5188      1558         8  Schedule training session on cybersecurity bes...   \n",
       "\n",
       "       tool_to_search  \n",
       "5180       Confluence  \n",
       "5181       Confluence  \n",
       "5182            Gmail  \n",
       "5183             Jira  \n",
       "5184       Confluence  \n",
       "5185            Slack  \n",
       "5186       Confluence  \n",
       "5187  Google Calendar  \n",
       "5188    Google Sheets  "
      ]
     },
     "execution_count": 15,
     "metadata": {},
     "output_type": "execute_result"
    }
   ],
   "source": [
    "annotation[annotation['user_idx'] == 1558]"
   ]
  },
  {
   "cell_type": "code",
   "execution_count": 29,
   "metadata": {},
   "outputs": [
    {
     "data": {
      "text/html": [
       "<div>\n",
       "<style scoped>\n",
       "    .dataframe tbody tr th:only-of-type {\n",
       "        vertical-align: middle;\n",
       "    }\n",
       "\n",
       "    .dataframe tbody tr th {\n",
       "        vertical-align: top;\n",
       "    }\n",
       "\n",
       "    .dataframe thead th {\n",
       "        text-align: right;\n",
       "    }\n",
       "</style>\n",
       "<table border=\"1\" class=\"dataframe\">\n",
       "  <thead>\n",
       "    <tr style=\"text-align: right;\">\n",
       "      <th></th>\n",
       "      <th>name</th>\n",
       "      <th>employee_tenure</th>\n",
       "      <th>department</th>\n",
       "      <th>job_title</th>\n",
       "      <th>company_size</th>\n",
       "      <th>company_sector</th>\n",
       "      <th>tasks</th>\n",
       "      <th>user_idx</th>\n",
       "    </tr>\n",
       "  </thead>\n",
       "  <tbody>\n",
       "    <tr>\n",
       "      <th>520</th>\n",
       "      <td>Benjamin</td>\n",
       "      <td>experienced</td>\n",
       "      <td>Customer Support / Service</td>\n",
       "      <td>Help Desk Technician</td>\n",
       "      <td>small</td>\n",
       "      <td>Media &amp; Entertainment</td>\n",
       "      <td>[Troubleshoot internet connection issues for 1...</td>\n",
       "      <td>1558</td>\n",
       "    </tr>\n",
       "    <tr>\n",
       "      <th>5076</th>\n",
       "      <td>Sophia</td>\n",
       "      <td>experienced</td>\n",
       "      <td>Customer Support / Service</td>\n",
       "      <td>Support Agent</td>\n",
       "      <td>large</td>\n",
       "      <td>Manufacturing &amp; Industrial</td>\n",
       "      <td>[Respond to 5 customer emails regarding delaye...</td>\n",
       "      <td>9440</td>\n",
       "    </tr>\n",
       "    <tr>\n",
       "      <th>6676</th>\n",
       "      <td>Liam</td>\n",
       "      <td>new</td>\n",
       "      <td>Marketing</td>\n",
       "      <td>Digital Advertising Coordinator</td>\n",
       "      <td>large</td>\n",
       "      <td>Financial Services &amp; Banking</td>\n",
       "      <td>[Reviewing and optimizing ad campaigns for imp...</td>\n",
       "      <td>6626</td>\n",
       "    </tr>\n",
       "  </tbody>\n",
       "</table>\n",
       "</div>"
      ],
      "text/plain": [
       "          name employee_tenure                  department  \\\n",
       "520   Benjamin     experienced  Customer Support / Service   \n",
       "5076    Sophia     experienced  Customer Support / Service   \n",
       "6676      Liam             new                   Marketing   \n",
       "\n",
       "                            job_title company_size  \\\n",
       "520              Help Desk Technician        small   \n",
       "5076                    Support Agent        large   \n",
       "6676  Digital Advertising Coordinator        large   \n",
       "\n",
       "                    company_sector  \\\n",
       "520          Media & Entertainment   \n",
       "5076    Manufacturing & Industrial   \n",
       "6676  Financial Services & Banking   \n",
       "\n",
       "                                                  tasks  user_idx  \n",
       "520   [Troubleshoot internet connection issues for 1...      1558  \n",
       "5076  [Respond to 5 customer emails regarding delaye...      9440  \n",
       "6676  [Reviewing and optimizing ad campaigns for imp...      6626  "
      ]
     },
     "execution_count": 29,
     "metadata": {},
     "output_type": "execute_result"
    }
   ],
   "source": [
    "# find missing tasks\n",
    "missing_rows = tasks[tasks['user_idx'].isin([1558, 6626, 9440])] \n",
    "missing_rows"
   ]
  },
  {
   "cell_type": "code",
   "execution_count": 34,
   "metadata": {},
   "outputs": [
    {
     "name": "stdout",
     "output_type": "stream",
     "text": [
      "Completed user_idx=1558\n",
      "Completed user_idx=9440\n",
      "Completed user_idx=6626\n",
      "All users processed successfully\n"
     ]
    }
   ],
   "source": [
    "task_tool_mapping_item = {\n",
    "    \"type\": \"object\",\n",
    "    \"properties\": {\n",
    "        \"tool_to_search\": {\"type\": \"string\"}\n",
    "    },\n",
    "    \"required\": [\"tool_to_search\"],\n",
    "    \"additionalProperties\": False\n",
    "}\n",
    "\n",
    "schema = {\n",
    "    \"name\": \"task_tool_mapping\",\n",
    "    \"strict\": True,\n",
    "    \"type\": \"object\",\n",
    "    \"properties\": {\n",
    "        \"task_tool_mappings\": {\n",
    "            \"type\": \"array\",\n",
    "            \"items\": task_tool_mapping_item,\n",
    "            \"minItems\": 1\n",
    "        }\n",
    "    },\n",
    "    \"required\": [\"task_tool_mappings\"],\n",
    "    \"additionalProperties\": False\n",
    "}\n",
    "\n",
    "PROMPT = r\"\"\"\n",
    "You are an employee who must complete **10 distinct tasks**.\n",
    "Before doing each task you will SEARCH for supporting resources\n",
    "(templates, SOPs, past examples, documentation).\n",
    "\n",
    "**Your job:**  \n",
    "For **each task**, decide which **one** internal tool you would click FIRST\n",
    "to find those resources.\n",
    "\n",
    "────────────────────────────────────────────────────────\n",
    "ROLE CONTEXT\n",
    "  • Position: {employee_tenure} {job_title}  \n",
    "  • Department: {department}  \n",
    "  • Company:   {company_size}-size {company_sector} organisation\n",
    "────────────────────────────────────────────────────────\n",
    "ALLOWED TOOLS — choose from *this list only*:  \n",
    "  Coda · Confluence · Jira · Google Doc · Slack · Miro ·  \n",
    "  Google Slides · Google Sheets · Gmail · GitHub\n",
    "────────────────────────────────────────────────────────\n",
    "OUTPUT RULES  \n",
    "  • Pick **exactly one** tool *from the list above* for every task.  \n",
    "  • Do **NOT** invent tools or return multiple tools.  \n",
    "  • Return **only** valid JSON that matches the schema below—no prose.\n",
    "\n",
    "    Example:\n",
    "    {{\n",
    "      \"task_tool_mappings\": [\n",
    "        {{ \"tool_to_search\": \"Confluence\" }},\n",
    "        ...\n",
    "      ]\n",
    "    }}\n",
    "\n",
    "TASKS  \n",
    "{formatted_tasks}\n",
    "\"\"\".strip()\n",
    "\n",
    "\n",
    "def build_prompt(row):\n",
    "    tasks = \"\\n\".join(f\"{i}. {t}\" for i, t in enumerate(row[\"tasks\"]))\n",
    "    return PROMPT.format(\n",
    "        employee_tenure=row[\"employee_tenure\"],\n",
    "        job_title=row[\"job_title\"],\n",
    "        department=row[\"department\"],\n",
    "        company_size=row[\"company_size\"],\n",
    "        company_sector=row[\"company_sector\"],\n",
    "        formatted_tasks=tasks\n",
    "    )\n",
    "\n",
    "output_file = \"missing_annotations.json\"\n",
    "if not os.path.exists(output_file):\n",
    "    with open(output_file, 'w') as f:\n",
    "        json.dump({\"task_tool_mappings\": []}, f)\n",
    "\n",
    "for _, row in missing_rows.iterrows(): \n",
    "    prompt = build_prompt(row)\n",
    "    try:\n",
    "        response = query_llm_proxy(\n",
    "            prompt,\n",
    "            schema=schema,\n",
    "            sleep_time=1,\n",
    "            backend='openai_direct_chat_gpt4o',\n",
    "            api_token=api_token\n",
    "        )\n",
    "\n",
    "        text_chunk = response.get('chunk', {}).get('text', '{}')\n",
    "        parsed = json.loads(text_chunk) if isinstance(text_chunk, str) else text_chunk\n",
    "        fixed = [\n",
    "                {\n",
    "                    \"user_idx\": row[\"user_idx\"],\n",
    "                    \"task_idx\": i,\n",
    "                    \"task\": row[\"tasks\"][i],\n",
    "                    \"tool_to_search\": tool_row[\"tool_to_search\"]\n",
    "                }\n",
    "                for i, tool_row in enumerate(parsed.get(\"task_tool_mappings\", []))\n",
    "            ]\n",
    "        with open(output_file, 'r') as f:\n",
    "            existing = json.load(f)\n",
    "\n",
    "        existing[\"task_tool_mappings\"].extend(fixed)\n",
    "\n",
    "        with open(output_file, 'w') as f:\n",
    "            json.dump(existing, f, indent=2)\n",
    "\n",
    "        print(f\"Completed user_idx={row['user_idx']}\")\n",
    "\n",
    "    except Exception as e:\n",
    "        print(f\"Error for user_idx={row['user_idx']}: {e}\")\n",
    "print(\"All users processed successfully\")"
   ]
  },
  {
   "cell_type": "code",
   "execution_count": 35,
   "metadata": {},
   "outputs": [
    {
     "data": {
      "text/html": [
       "<div>\n",
       "<style scoped>\n",
       "    .dataframe tbody tr th:only-of-type {\n",
       "        vertical-align: middle;\n",
       "    }\n",
       "\n",
       "    .dataframe tbody tr th {\n",
       "        vertical-align: top;\n",
       "    }\n",
       "\n",
       "    .dataframe thead th {\n",
       "        text-align: right;\n",
       "    }\n",
       "</style>\n",
       "<table border=\"1\" class=\"dataframe\">\n",
       "  <thead>\n",
       "    <tr style=\"text-align: right;\">\n",
       "      <th></th>\n",
       "      <th>user_idx</th>\n",
       "      <th>task_idx</th>\n",
       "      <th>task</th>\n",
       "      <th>tool_to_search</th>\n",
       "    </tr>\n",
       "  </thead>\n",
       "  <tbody>\n",
       "    <tr>\n",
       "      <th>0</th>\n",
       "      <td>1558</td>\n",
       "      <td>0</td>\n",
       "      <td>Troubleshoot internet connection issues for 10...</td>\n",
       "      <td>Confluence</td>\n",
       "    </tr>\n",
       "    <tr>\n",
       "      <th>1</th>\n",
       "      <td>1558</td>\n",
       "      <td>1</td>\n",
       "      <td>Update knowledge base articles on streaming de...</td>\n",
       "      <td>Confluence</td>\n",
       "    </tr>\n",
       "    <tr>\n",
       "      <th>2</th>\n",
       "      <td>1558</td>\n",
       "      <td>2</td>\n",
       "      <td>Respond to 25 customer inquiries via phone and...</td>\n",
       "      <td>Gmail</td>\n",
       "    </tr>\n",
       "    <tr>\n",
       "      <th>3</th>\n",
       "      <td>1558</td>\n",
       "      <td>3</td>\n",
       "      <td>Monitor ticket volume and prioritize tasks for...</td>\n",
       "      <td>Jira</td>\n",
       "    </tr>\n",
       "    <tr>\n",
       "      <th>4</th>\n",
       "      <td>1558</td>\n",
       "      <td>4</td>\n",
       "      <td>Implement new software update for IT system ma...</td>\n",
       "      <td>Confluence</td>\n",
       "    </tr>\n",
       "  </tbody>\n",
       "</table>\n",
       "</div>"
      ],
      "text/plain": [
       "   user_idx  task_idx                                               task  \\\n",
       "0      1558         0  Troubleshoot internet connection issues for 10...   \n",
       "1      1558         1  Update knowledge base articles on streaming de...   \n",
       "2      1558         2  Respond to 25 customer inquiries via phone and...   \n",
       "3      1558         3  Monitor ticket volume and prioritize tasks for...   \n",
       "4      1558         4  Implement new software update for IT system ma...   \n",
       "\n",
       "  tool_to_search  \n",
       "0     Confluence  \n",
       "1     Confluence  \n",
       "2          Gmail  \n",
       "3           Jira  \n",
       "4     Confluence  "
      ]
     },
     "execution_count": 35,
     "metadata": {},
     "output_type": "execute_result"
    }
   ],
   "source": [
    "with open(\"missing_annotations.json\", \"r\") as f:\n",
    "    data = json.load(f)\n",
    "missing_annotations = pd.DataFrame(data[\"task_tool_mappings\"])\n",
    "missing_annotations.head()"
   ]
  },
  {
   "cell_type": "code",
   "execution_count": 36,
   "metadata": {},
   "outputs": [
    {
     "data": {
      "text/plain": [
       "30"
      ]
     },
     "execution_count": 36,
     "metadata": {},
     "output_type": "execute_result"
    }
   ],
   "source": [
    "len(missing_annotations)"
   ]
  },
  {
   "cell_type": "code",
   "execution_count": 38,
   "metadata": {},
   "outputs": [],
   "source": [
    "# replace the missing annotations with the correct ones\n",
    "annotation = annotation[~annotation['user_idx'].isin([1558, 6626, 9440])]\n",
    "# add the missing annotations\n",
    "annotation = pd.concat([annotation, missing_annotations])"
   ]
  },
  {
   "cell_type": "code",
   "execution_count": 39,
   "metadata": {},
   "outputs": [
    {
     "name": "stdout",
     "output_type": "stream",
     "text": [
      "missing user_idx: []\n",
      "\n",
      "users with wrong task count: 0\n"
     ]
    },
    {
     "data": {
      "text/plain": [
       "Series([], Name: task_idx, dtype: int64)"
      ]
     },
     "metadata": {},
     "output_type": "display_data"
    }
   ],
   "source": [
    "# Which expected user_idx values are missing?\n",
    "expected = set(range(annotation[\"user_idx\"].min(), annotation[\"user_idx\"].max() + 1)) \n",
    "present  = set(annotation[\"user_idx\"].unique())\n",
    "missing  = expected - present\n",
    "print(\"missing user_idx:\", sorted(missing))\n",
    "\n",
    "# Verify each user_idx has exactly 10 task_idx values\n",
    "counts = annotation.groupby(\"user_idx\")[\"task_idx\"].nunique()\n",
    "bad    = counts[counts != 10]\n",
    "print(f\"\\nusers with wrong task count: {len(bad)}\")\n",
    "display(bad.head())"
   ]
  },
  {
   "cell_type": "code",
   "execution_count": 41,
   "metadata": {},
   "outputs": [],
   "source": [
    "annotation.to_json('annotation_1_out.json', orient = 'records', lines = True)"
   ]
  },
  {
   "cell_type": "code",
   "execution_count": 42,
   "metadata": {},
   "outputs": [
    {
     "data": {
      "text/plain": [
       "104560"
      ]
     },
     "execution_count": 42,
     "metadata": {},
     "output_type": "execute_result"
    }
   ],
   "source": [
    "len(annotation)"
   ]
  }
 ],
 "metadata": {
  "kernelspec": {
   "display_name": "myenv",
   "language": "python",
   "name": "python3"
  },
  "language_info": {
   "codemirror_mode": {
    "name": "ipython",
    "version": 3
   },
   "file_extension": ".py",
   "mimetype": "text/x-python",
   "name": "python",
   "nbconvert_exporter": "python",
   "pygments_lexer": "ipython3",
   "version": "3.13.2"
  }
 },
 "nbformat": 4,
 "nbformat_minor": 2
}
